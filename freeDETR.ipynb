{
 "cells": [
  {
   "cell_type": "code",
   "execution_count": 2,
   "id": "a395b46f-1095-4a07-adc9-73d49fe78991",
   "metadata": {
    "scrolled": true,
    "tags": []
   },
   "outputs": [],
   "source": [
    "import os\n",
    "import cv2\n",
    "import json\n",
    "import string\n",
    "import csv\n",
    "import pickle\n",
    "import timm\n",
    "import numpy as np\n",
    "from collections import Counter\n",
    "from tqdm import tqdm\n",
    "from matplotlib import pyplot as plt\n",
    "from PIL import Image\n",
    "import torch\n",
    "import torch.nn as nn\n",
    "from torch import Tensor\n",
    "from torch.optim import Adam\n",
    "import torchvision.models as models\n",
    "import torchvision.transforms as transforms\n",
    "from torch.utils.data import Dataset, DataLoader\n",
    "from torchvision.transforms.functional import to_tensor\n",
    "from torchvision.models.detection.image_list import ImageList\n",
    "from transformers import DetrForObjectDetection, DetrFeatureExtractor\n",
    "\n",
    "data_dir = os.path.join('dataset')\n",
    "working_dir = os.path.join('working')\n",
    "images_dir = os.path.join(data_dir,'Images')\n",
    "captions_dir = os.path.join(data_dir,'captions.txt')"
   ]
  },
  {
   "cell_type": "code",
   "execution_count": 3,
   "id": "21899a99-dfd8-4c91-a52f-63218bd17d61",
   "metadata": {},
   "outputs": [
    {
     "name": "stdout",
     "output_type": "stream",
     "text": [
      "Device 0: NVIDIA GeForce GTX 1660 SUPER\n",
      "Using device: cuda\n"
     ]
    }
   ],
   "source": [
    "import torch\n",
    "\n",
    "if torch.cuda.is_available():\n",
    "    for i in range(torch.cuda.device_count()):\n",
    "        print(f\"Device {i}: {torch.cuda.get_device_name(i)}\")\n",
    "else:\n",
    "    print(\"No GPU devices available.\")\n",
    "# *********************\n",
    "device = torch.device(\"cuda\" if torch.cuda.is_available() else \"cpu\")\n",
    "print(f\"Using device: {device}\")\n"
   ]
  },
  {
   "cell_type": "code",
   "execution_count": 4,
   "id": "16b6e3d5-ec75-45a5-8a5a-d7f6970e6b2f",
   "metadata": {},
   "outputs": [],
   "source": [
    "import gensim\n",
    "\n",
    "pretrained_embeddings_path = \"GoogleNews-vectors-negative300.bin\"\n",
    "word2vec = gensim.models.KeyedVectors.load_word2vec_format(pretrained_embeddings_path, \n",
    "binary=True)"
   ]
  },
  {
   "cell_type": "code",
   "execution_count": 5,
   "id": "7e2dc589-c1f7-4ff5-94a2-f7008abb8a87",
   "metadata": {},
   "outputs": [],
   "source": [
    "from gensim.utils import simple_preprocess\n",
    "from gensim.models import Word2Vec\n",
    "\n",
    "\n",
    "# # Example text data\n",
    "# documents = [\"This is the first sentence.\", \"Here is another one.\", \"And a third sentence.\"]\n",
    "\n",
    "# # Preprocess text\n",
    "# processed_docs = [simple_preprocess(doc) for doc in documents]\n",
    "\n"
   ]
  },
  {
   "cell_type": "code",
   "execution_count": 6,
   "id": "9316cbbe-44bf-4310-9985-ed082178a39c",
   "metadata": {},
   "outputs": [],
   "source": [
    "# processed_docs"
   ]
  },
  {
   "cell_type": "code",
   "execution_count": 7,
   "id": "eded2ad0-2035-4731-a85e-4bee171d92d6",
   "metadata": {
    "tags": []
   },
   "outputs": [],
   "source": [
    "# for flickr8k\n",
    "def load_captions(filepath):\n",
    "    captions = {}\n",
    "    with open(filepath, 'r') as file:\n",
    "        reader = csv.reader(file) \n",
    "        for row in reader:\n",
    "            if len(row) != 2:\n",
    "                print(f\"Skipping malformed line: {row[:50]}...\")  \n",
    "                continue\n",
    "            image_id, caption = row\n",
    "            image_id = image_id.split('.')[0]  \n",
    "            if image_id not in captions:\n",
    "                captions[image_id] = []\n",
    "            captions[image_id].append(caption)\n",
    "    \n",
    "    return captions\n",
    "captions = load_captions(captions_dir)"
   ]
  },
  {
   "cell_type": "code",
   "execution_count": 8,
   "id": "787e6f8f-1059-476e-a1d2-f7430fa2dc15",
   "metadata": {
    "tags": []
   },
   "outputs": [],
   "source": [
    "# # for flickr30k\n",
    "# def load_captions(filepath):\n",
    "#     captions = {}\n",
    "#     # Adding encoding parameter to handle potential encoding issues\n",
    "#     with open(filepath, 'r', encoding='utf-8', errors='replace') as file:\n",
    "#         reader = csv.reader(file) \n",
    "#         for row in reader:\n",
    "#             if len(row) != 2:\n",
    "#                 print(f\"Skipping malformed line: {row[:50]}...\")  \n",
    "#                 continue\n",
    "#             image_id, caption = row\n",
    "#             image_id = image_id.split('.')[0]  \n",
    "#             if image_id not in captions:\n",
    "#                 captions[image_id] = []\n",
    "#             captions[image_id].append(caption)\n",
    "    \n",
    "#     return captions\n",
    "\n",
    "# captions = load_captions(captions_dir)"
   ]
  },
  {
   "cell_type": "code",
   "execution_count": 10,
   "id": "e7ff5c4e-9e37-4e3a-8ab1-f26711510ba3",
   "metadata": {
    "jupyter": {
     "source_hidden": true
    },
    "tags": []
   },
   "outputs": [],
   "source": [
    "def clean_and_tokenize(caption):\n",
    "    tokens = caption.lower().translate(str.maketrans('', '', string.punctuation)).split()\n",
    "    return tokens\n",
    "    \n",
    "# Collect all captions\n",
    "all_captions = []\n",
    "for cap_list in captions.values():\n",
    "    all_captions.extend(cap_list)\n",
    "    \n",
    "# Count word frequencies\n",
    "word_counts = Counter()\n",
    "for caption in all_captions:\n",
    "    word_counts.update(clean_and_tokenize(caption))\n",
    "\n",
    "# Create a vocabulary with words that exist in both Word2Vec and your dataset\n",
    "vocab = [word for word, count in word_counts.items() if count >= 2]\n",
    "\n",
    "# Map words to indices for the special tokens\n",
    "word_to_ix = {word: ix for ix, word in enumerate(vocab, start=4)}  # start=4 to leave 0 for <PAD>, 1 for <START>, 2 for <END>, 3 for <UNK>\n",
    "word_to_ix['<PAD>'] = 0\n",
    "word_to_ix['<START>'] = 1\n",
    "word_to_ix['<END>'] = 2\n",
    "word_to_ix['<UNK>'] = 3\n",
    "\n",
    "# Reverse lookup for decoding\n",
    "ix_to_word = {ix: word for word, ix in word_to_ix.items()}\n",
    "\n",
    "# Update vocab size\n",
    "vocab_size = len(word_to_ix)"
   ]
  },
  {
   "cell_type": "code",
   "execution_count": 11,
   "id": "c58251b2-9575-4997-81f4-f1e15ebeec61",
   "metadata": {
    "jupyter": {
     "source_hidden": true
    },
    "tags": []
   },
   "outputs": [],
   "source": [
    "vocab_file_path = 'vocab.json'\n",
    "with open('vocab.json', 'w') as vocab_file:\n",
    "    json.dump(word_to_ix, vocab_file)"
   ]
  },
  {
   "cell_type": "code",
   "execution_count": 12,
   "id": "4e039743-790c-4625-bcde-61a78447b1ac",
   "metadata": {
    "jupyter": {
     "source_hidden": true
    },
    "tags": []
   },
   "outputs": [],
   "source": [
    "def encode_caption(caption, word_to_ix, max_length):\n",
    "    tokens = clean_and_tokenize(caption)\n",
    "    tokens = ['<START>'] + tokens + ['<END>']\n",
    "    caption_ids = [word_to_ix.get(token, word_to_ix['<UNK>']) for token in tokens]\n",
    "    if len(caption_ids) < max_length:\n",
    "        caption_ids += [word_to_ix['<PAD>']] * (max_length - len(caption_ids))\n",
    "    else:\n",
    "        caption_ids = caption_ids[:max_length]\n",
    "    return np.array(caption_ids)\n",
    "\n",
    "max_length = max(len(clean_and_tokenize(caption)) + 2 for caption in all_captions)  # +2 for <START> and <END>\n",
    "encoded_captions = {img_id: [encode_caption(caption, word_to_ix, max_length) for caption in cap_list]\n",
    "                    for img_id, cap_list in captions.items()}\n"
   ]
  },
  {
   "cell_type": "code",
   "execution_count": 13,
   "id": "b461bbef-dab1-410f-8cde-5827cc458c02",
   "metadata": {
    "tags": []
   },
   "outputs": [],
   "source": [
    "# List of image IDs (filenames without extension)\n",
    "image_ids = [img_name.split('.')[0] for img_name in os.listdir(images_dir) if img_name.endswith('.jpg')]\n",
    "\n",
    "# Set up transforms for training and validation/test\n",
    "train_transform = transforms.Compose([\n",
    "    transforms.RandomResizedCrop((224, 224)),\n",
    "    transforms.RandomHorizontalFlip(p=0.5),\n",
    "    transforms.ColorJitter(brightness=0.2, contrast=0.2, saturation=0.2, hue=0.1),\n",
    "    transforms.RandomRotation(degrees=10),\n",
    "    transforms.ToTensor(),\n",
    "    transforms.Normalize(mean=[0.485, 0.456, 0.406], std=[0.229, 0.224, 0.225]),\n",
    "])\n",
    "\n",
    "test_transform = transforms.Compose([\n",
    "    transforms.Resize((224, 224)),\n",
    "    transforms.ToTensor(),\n",
    "    transforms.Normalize(mean=[0.485, 0.456, 0.406], std=[0.229, 0.224, 0.225]),\n",
    "])\n",
    "# Define the transform used during feature extraction (should be fixed)\n",
    "feature_extraction_transform = transforms.Compose([\n",
    "    transforms.Resize((224, 224)),\n",
    "    transforms.ToTensor(),\n",
    "    transforms.Normalize(mean=[0.485, 0.456, 0.406], std=[0.229, 0.224, 0.225]),\n",
    "])"
   ]
  },
  {
   "cell_type": "code",
   "execution_count": 14,
   "id": "0cc0978d-b76b-4fcc-9655-ba170a3ea9ae",
   "metadata": {
    "collapsed": true,
    "jupyter": {
     "outputs_hidden": true
    },
    "scrolled": true,
    "tags": []
   },
   "outputs": [
    {
     "name": "stderr",
     "output_type": "stream",
     "text": [
      "C:\\Users\\Mohamed\\anaconda3\\Lib\\site-packages\\transformers\\models\\detr\\feature_extraction_detr.py:38: FutureWarning: The class DetrFeatureExtractor is deprecated and will be removed in version 5 of Transformers. Please use DetrImageProcessor instead.\n",
      "  warnings.warn(\n",
      "Some weights of the model checkpoint at facebook/detr-resnet-50 were not used when initializing DetrForObjectDetection: ['model.backbone.conv_encoder.model.layer1.0.downsample.1.num_batches_tracked', 'model.backbone.conv_encoder.model.layer2.0.downsample.1.num_batches_tracked', 'model.backbone.conv_encoder.model.layer3.0.downsample.1.num_batches_tracked', 'model.backbone.conv_encoder.model.layer4.0.downsample.1.num_batches_tracked']\n",
      "- This IS expected if you are initializing DetrForObjectDetection from the checkpoint of a model trained on another task or with another architecture (e.g. initializing a BertForSequenceClassification model from a BertForPreTraining model).\n",
      "- This IS NOT expected if you are initializing DetrForObjectDetection from the checkpoint of a model that you expect to be exactly identical (initializing a BertForSequenceClassification model from a BertForSequenceClassification model).\n"
     ]
    },
    {
     "data": {
      "text/plain": [
       "DetrForObjectDetection(\n",
       "  (model): DetrModel(\n",
       "    (backbone): DetrConvModel(\n",
       "      (conv_encoder): DetrConvEncoder(\n",
       "        (model): FeatureListNet(\n",
       "          (conv1): Conv2d(3, 64, kernel_size=(7, 7), stride=(2, 2), padding=(3, 3), bias=False)\n",
       "          (bn1): DetrFrozenBatchNorm2d()\n",
       "          (act1): ReLU(inplace=True)\n",
       "          (maxpool): MaxPool2d(kernel_size=3, stride=2, padding=1, dilation=1, ceil_mode=False)\n",
       "          (layer1): Sequential(\n",
       "            (0): Bottleneck(\n",
       "              (conv1): Conv2d(64, 64, kernel_size=(1, 1), stride=(1, 1), bias=False)\n",
       "              (bn1): DetrFrozenBatchNorm2d()\n",
       "              (act1): ReLU(inplace=True)\n",
       "              (conv2): Conv2d(64, 64, kernel_size=(3, 3), stride=(1, 1), padding=(1, 1), bias=False)\n",
       "              (bn2): DetrFrozenBatchNorm2d()\n",
       "              (drop_block): Identity()\n",
       "              (act2): ReLU(inplace=True)\n",
       "              (aa): Identity()\n",
       "              (conv3): Conv2d(64, 256, kernel_size=(1, 1), stride=(1, 1), bias=False)\n",
       "              (bn3): DetrFrozenBatchNorm2d()\n",
       "              (act3): ReLU(inplace=True)\n",
       "              (downsample): Sequential(\n",
       "                (0): Conv2d(64, 256, kernel_size=(1, 1), stride=(1, 1), bias=False)\n",
       "                (1): DetrFrozenBatchNorm2d()\n",
       "              )\n",
       "            )\n",
       "            (1): Bottleneck(\n",
       "              (conv1): Conv2d(256, 64, kernel_size=(1, 1), stride=(1, 1), bias=False)\n",
       "              (bn1): DetrFrozenBatchNorm2d()\n",
       "              (act1): ReLU(inplace=True)\n",
       "              (conv2): Conv2d(64, 64, kernel_size=(3, 3), stride=(1, 1), padding=(1, 1), bias=False)\n",
       "              (bn2): DetrFrozenBatchNorm2d()\n",
       "              (drop_block): Identity()\n",
       "              (act2): ReLU(inplace=True)\n",
       "              (aa): Identity()\n",
       "              (conv3): Conv2d(64, 256, kernel_size=(1, 1), stride=(1, 1), bias=False)\n",
       "              (bn3): DetrFrozenBatchNorm2d()\n",
       "              (act3): ReLU(inplace=True)\n",
       "            )\n",
       "            (2): Bottleneck(\n",
       "              (conv1): Conv2d(256, 64, kernel_size=(1, 1), stride=(1, 1), bias=False)\n",
       "              (bn1): DetrFrozenBatchNorm2d()\n",
       "              (act1): ReLU(inplace=True)\n",
       "              (conv2): Conv2d(64, 64, kernel_size=(3, 3), stride=(1, 1), padding=(1, 1), bias=False)\n",
       "              (bn2): DetrFrozenBatchNorm2d()\n",
       "              (drop_block): Identity()\n",
       "              (act2): ReLU(inplace=True)\n",
       "              (aa): Identity()\n",
       "              (conv3): Conv2d(64, 256, kernel_size=(1, 1), stride=(1, 1), bias=False)\n",
       "              (bn3): DetrFrozenBatchNorm2d()\n",
       "              (act3): ReLU(inplace=True)\n",
       "            )\n",
       "          )\n",
       "          (layer2): Sequential(\n",
       "            (0): Bottleneck(\n",
       "              (conv1): Conv2d(256, 128, kernel_size=(1, 1), stride=(1, 1), bias=False)\n",
       "              (bn1): DetrFrozenBatchNorm2d()\n",
       "              (act1): ReLU(inplace=True)\n",
       "              (conv2): Conv2d(128, 128, kernel_size=(3, 3), stride=(2, 2), padding=(1, 1), bias=False)\n",
       "              (bn2): DetrFrozenBatchNorm2d()\n",
       "              (drop_block): Identity()\n",
       "              (act2): ReLU(inplace=True)\n",
       "              (aa): Identity()\n",
       "              (conv3): Conv2d(128, 512, kernel_size=(1, 1), stride=(1, 1), bias=False)\n",
       "              (bn3): DetrFrozenBatchNorm2d()\n",
       "              (act3): ReLU(inplace=True)\n",
       "              (downsample): Sequential(\n",
       "                (0): Conv2d(256, 512, kernel_size=(1, 1), stride=(2, 2), bias=False)\n",
       "                (1): DetrFrozenBatchNorm2d()\n",
       "              )\n",
       "            )\n",
       "            (1): Bottleneck(\n",
       "              (conv1): Conv2d(512, 128, kernel_size=(1, 1), stride=(1, 1), bias=False)\n",
       "              (bn1): DetrFrozenBatchNorm2d()\n",
       "              (act1): ReLU(inplace=True)\n",
       "              (conv2): Conv2d(128, 128, kernel_size=(3, 3), stride=(1, 1), padding=(1, 1), bias=False)\n",
       "              (bn2): DetrFrozenBatchNorm2d()\n",
       "              (drop_block): Identity()\n",
       "              (act2): ReLU(inplace=True)\n",
       "              (aa): Identity()\n",
       "              (conv3): Conv2d(128, 512, kernel_size=(1, 1), stride=(1, 1), bias=False)\n",
       "              (bn3): DetrFrozenBatchNorm2d()\n",
       "              (act3): ReLU(inplace=True)\n",
       "            )\n",
       "            (2): Bottleneck(\n",
       "              (conv1): Conv2d(512, 128, kernel_size=(1, 1), stride=(1, 1), bias=False)\n",
       "              (bn1): DetrFrozenBatchNorm2d()\n",
       "              (act1): ReLU(inplace=True)\n",
       "              (conv2): Conv2d(128, 128, kernel_size=(3, 3), stride=(1, 1), padding=(1, 1), bias=False)\n",
       "              (bn2): DetrFrozenBatchNorm2d()\n",
       "              (drop_block): Identity()\n",
       "              (act2): ReLU(inplace=True)\n",
       "              (aa): Identity()\n",
       "              (conv3): Conv2d(128, 512, kernel_size=(1, 1), stride=(1, 1), bias=False)\n",
       "              (bn3): DetrFrozenBatchNorm2d()\n",
       "              (act3): ReLU(inplace=True)\n",
       "            )\n",
       "            (3): Bottleneck(\n",
       "              (conv1): Conv2d(512, 128, kernel_size=(1, 1), stride=(1, 1), bias=False)\n",
       "              (bn1): DetrFrozenBatchNorm2d()\n",
       "              (act1): ReLU(inplace=True)\n",
       "              (conv2): Conv2d(128, 128, kernel_size=(3, 3), stride=(1, 1), padding=(1, 1), bias=False)\n",
       "              (bn2): DetrFrozenBatchNorm2d()\n",
       "              (drop_block): Identity()\n",
       "              (act2): ReLU(inplace=True)\n",
       "              (aa): Identity()\n",
       "              (conv3): Conv2d(128, 512, kernel_size=(1, 1), stride=(1, 1), bias=False)\n",
       "              (bn3): DetrFrozenBatchNorm2d()\n",
       "              (act3): ReLU(inplace=True)\n",
       "            )\n",
       "          )\n",
       "          (layer3): Sequential(\n",
       "            (0): Bottleneck(\n",
       "              (conv1): Conv2d(512, 256, kernel_size=(1, 1), stride=(1, 1), bias=False)\n",
       "              (bn1): DetrFrozenBatchNorm2d()\n",
       "              (act1): ReLU(inplace=True)\n",
       "              (conv2): Conv2d(256, 256, kernel_size=(3, 3), stride=(2, 2), padding=(1, 1), bias=False)\n",
       "              (bn2): DetrFrozenBatchNorm2d()\n",
       "              (drop_block): Identity()\n",
       "              (act2): ReLU(inplace=True)\n",
       "              (aa): Identity()\n",
       "              (conv3): Conv2d(256, 1024, kernel_size=(1, 1), stride=(1, 1), bias=False)\n",
       "              (bn3): DetrFrozenBatchNorm2d()\n",
       "              (act3): ReLU(inplace=True)\n",
       "              (downsample): Sequential(\n",
       "                (0): Conv2d(512, 1024, kernel_size=(1, 1), stride=(2, 2), bias=False)\n",
       "                (1): DetrFrozenBatchNorm2d()\n",
       "              )\n",
       "            )\n",
       "            (1): Bottleneck(\n",
       "              (conv1): Conv2d(1024, 256, kernel_size=(1, 1), stride=(1, 1), bias=False)\n",
       "              (bn1): DetrFrozenBatchNorm2d()\n",
       "              (act1): ReLU(inplace=True)\n",
       "              (conv2): Conv2d(256, 256, kernel_size=(3, 3), stride=(1, 1), padding=(1, 1), bias=False)\n",
       "              (bn2): DetrFrozenBatchNorm2d()\n",
       "              (drop_block): Identity()\n",
       "              (act2): ReLU(inplace=True)\n",
       "              (aa): Identity()\n",
       "              (conv3): Conv2d(256, 1024, kernel_size=(1, 1), stride=(1, 1), bias=False)\n",
       "              (bn3): DetrFrozenBatchNorm2d()\n",
       "              (act3): ReLU(inplace=True)\n",
       "            )\n",
       "            (2): Bottleneck(\n",
       "              (conv1): Conv2d(1024, 256, kernel_size=(1, 1), stride=(1, 1), bias=False)\n",
       "              (bn1): DetrFrozenBatchNorm2d()\n",
       "              (act1): ReLU(inplace=True)\n",
       "              (conv2): Conv2d(256, 256, kernel_size=(3, 3), stride=(1, 1), padding=(1, 1), bias=False)\n",
       "              (bn2): DetrFrozenBatchNorm2d()\n",
       "              (drop_block): Identity()\n",
       "              (act2): ReLU(inplace=True)\n",
       "              (aa): Identity()\n",
       "              (conv3): Conv2d(256, 1024, kernel_size=(1, 1), stride=(1, 1), bias=False)\n",
       "              (bn3): DetrFrozenBatchNorm2d()\n",
       "              (act3): ReLU(inplace=True)\n",
       "            )\n",
       "            (3): Bottleneck(\n",
       "              (conv1): Conv2d(1024, 256, kernel_size=(1, 1), stride=(1, 1), bias=False)\n",
       "              (bn1): DetrFrozenBatchNorm2d()\n",
       "              (act1): ReLU(inplace=True)\n",
       "              (conv2): Conv2d(256, 256, kernel_size=(3, 3), stride=(1, 1), padding=(1, 1), bias=False)\n",
       "              (bn2): DetrFrozenBatchNorm2d()\n",
       "              (drop_block): Identity()\n",
       "              (act2): ReLU(inplace=True)\n",
       "              (aa): Identity()\n",
       "              (conv3): Conv2d(256, 1024, kernel_size=(1, 1), stride=(1, 1), bias=False)\n",
       "              (bn3): DetrFrozenBatchNorm2d()\n",
       "              (act3): ReLU(inplace=True)\n",
       "            )\n",
       "            (4): Bottleneck(\n",
       "              (conv1): Conv2d(1024, 256, kernel_size=(1, 1), stride=(1, 1), bias=False)\n",
       "              (bn1): DetrFrozenBatchNorm2d()\n",
       "              (act1): ReLU(inplace=True)\n",
       "              (conv2): Conv2d(256, 256, kernel_size=(3, 3), stride=(1, 1), padding=(1, 1), bias=False)\n",
       "              (bn2): DetrFrozenBatchNorm2d()\n",
       "              (drop_block): Identity()\n",
       "              (act2): ReLU(inplace=True)\n",
       "              (aa): Identity()\n",
       "              (conv3): Conv2d(256, 1024, kernel_size=(1, 1), stride=(1, 1), bias=False)\n",
       "              (bn3): DetrFrozenBatchNorm2d()\n",
       "              (act3): ReLU(inplace=True)\n",
       "            )\n",
       "            (5): Bottleneck(\n",
       "              (conv1): Conv2d(1024, 256, kernel_size=(1, 1), stride=(1, 1), bias=False)\n",
       "              (bn1): DetrFrozenBatchNorm2d()\n",
       "              (act1): ReLU(inplace=True)\n",
       "              (conv2): Conv2d(256, 256, kernel_size=(3, 3), stride=(1, 1), padding=(1, 1), bias=False)\n",
       "              (bn2): DetrFrozenBatchNorm2d()\n",
       "              (drop_block): Identity()\n",
       "              (act2): ReLU(inplace=True)\n",
       "              (aa): Identity()\n",
       "              (conv3): Conv2d(256, 1024, kernel_size=(1, 1), stride=(1, 1), bias=False)\n",
       "              (bn3): DetrFrozenBatchNorm2d()\n",
       "              (act3): ReLU(inplace=True)\n",
       "            )\n",
       "          )\n",
       "          (layer4): Sequential(\n",
       "            (0): Bottleneck(\n",
       "              (conv1): Conv2d(1024, 512, kernel_size=(1, 1), stride=(1, 1), bias=False)\n",
       "              (bn1): DetrFrozenBatchNorm2d()\n",
       "              (act1): ReLU(inplace=True)\n",
       "              (conv2): Conv2d(512, 512, kernel_size=(3, 3), stride=(2, 2), padding=(1, 1), bias=False)\n",
       "              (bn2): DetrFrozenBatchNorm2d()\n",
       "              (drop_block): Identity()\n",
       "              (act2): ReLU(inplace=True)\n",
       "              (aa): Identity()\n",
       "              (conv3): Conv2d(512, 2048, kernel_size=(1, 1), stride=(1, 1), bias=False)\n",
       "              (bn3): DetrFrozenBatchNorm2d()\n",
       "              (act3): ReLU(inplace=True)\n",
       "              (downsample): Sequential(\n",
       "                (0): Conv2d(1024, 2048, kernel_size=(1, 1), stride=(2, 2), bias=False)\n",
       "                (1): DetrFrozenBatchNorm2d()\n",
       "              )\n",
       "            )\n",
       "            (1): Bottleneck(\n",
       "              (conv1): Conv2d(2048, 512, kernel_size=(1, 1), stride=(1, 1), bias=False)\n",
       "              (bn1): DetrFrozenBatchNorm2d()\n",
       "              (act1): ReLU(inplace=True)\n",
       "              (conv2): Conv2d(512, 512, kernel_size=(3, 3), stride=(1, 1), padding=(1, 1), bias=False)\n",
       "              (bn2): DetrFrozenBatchNorm2d()\n",
       "              (drop_block): Identity()\n",
       "              (act2): ReLU(inplace=True)\n",
       "              (aa): Identity()\n",
       "              (conv3): Conv2d(512, 2048, kernel_size=(1, 1), stride=(1, 1), bias=False)\n",
       "              (bn3): DetrFrozenBatchNorm2d()\n",
       "              (act3): ReLU(inplace=True)\n",
       "            )\n",
       "            (2): Bottleneck(\n",
       "              (conv1): Conv2d(2048, 512, kernel_size=(1, 1), stride=(1, 1), bias=False)\n",
       "              (bn1): DetrFrozenBatchNorm2d()\n",
       "              (act1): ReLU(inplace=True)\n",
       "              (conv2): Conv2d(512, 512, kernel_size=(3, 3), stride=(1, 1), padding=(1, 1), bias=False)\n",
       "              (bn2): DetrFrozenBatchNorm2d()\n",
       "              (drop_block): Identity()\n",
       "              (act2): ReLU(inplace=True)\n",
       "              (aa): Identity()\n",
       "              (conv3): Conv2d(512, 2048, kernel_size=(1, 1), stride=(1, 1), bias=False)\n",
       "              (bn3): DetrFrozenBatchNorm2d()\n",
       "              (act3): ReLU(inplace=True)\n",
       "            )\n",
       "          )\n",
       "        )\n",
       "      )\n",
       "      (position_embedding): DetrSinePositionEmbedding()\n",
       "    )\n",
       "    (input_projection): Conv2d(2048, 256, kernel_size=(1, 1), stride=(1, 1))\n",
       "    (query_position_embeddings): Embedding(100, 256)\n",
       "    (encoder): DetrEncoder(\n",
       "      (layers): ModuleList(\n",
       "        (0-5): 6 x DetrEncoderLayer(\n",
       "          (self_attn): DetrAttention(\n",
       "            (k_proj): Linear(in_features=256, out_features=256, bias=True)\n",
       "            (v_proj): Linear(in_features=256, out_features=256, bias=True)\n",
       "            (q_proj): Linear(in_features=256, out_features=256, bias=True)\n",
       "            (out_proj): Linear(in_features=256, out_features=256, bias=True)\n",
       "          )\n",
       "          (self_attn_layer_norm): LayerNorm((256,), eps=1e-05, elementwise_affine=True)\n",
       "          (activation_fn): ReLU()\n",
       "          (fc1): Linear(in_features=256, out_features=2048, bias=True)\n",
       "          (fc2): Linear(in_features=2048, out_features=256, bias=True)\n",
       "          (final_layer_norm): LayerNorm((256,), eps=1e-05, elementwise_affine=True)\n",
       "        )\n",
       "      )\n",
       "    )\n",
       "    (decoder): DetrDecoder(\n",
       "      (layers): ModuleList(\n",
       "        (0-5): 6 x DetrDecoderLayer(\n",
       "          (self_attn): DetrAttention(\n",
       "            (k_proj): Linear(in_features=256, out_features=256, bias=True)\n",
       "            (v_proj): Linear(in_features=256, out_features=256, bias=True)\n",
       "            (q_proj): Linear(in_features=256, out_features=256, bias=True)\n",
       "            (out_proj): Linear(in_features=256, out_features=256, bias=True)\n",
       "          )\n",
       "          (activation_fn): ReLU()\n",
       "          (self_attn_layer_norm): LayerNorm((256,), eps=1e-05, elementwise_affine=True)\n",
       "          (encoder_attn): DetrAttention(\n",
       "            (k_proj): Linear(in_features=256, out_features=256, bias=True)\n",
       "            (v_proj): Linear(in_features=256, out_features=256, bias=True)\n",
       "            (q_proj): Linear(in_features=256, out_features=256, bias=True)\n",
       "            (out_proj): Linear(in_features=256, out_features=256, bias=True)\n",
       "          )\n",
       "          (encoder_attn_layer_norm): LayerNorm((256,), eps=1e-05, elementwise_affine=True)\n",
       "          (fc1): Linear(in_features=256, out_features=2048, bias=True)\n",
       "          (fc2): Linear(in_features=2048, out_features=256, bias=True)\n",
       "          (final_layer_norm): LayerNorm((256,), eps=1e-05, elementwise_affine=True)\n",
       "        )\n",
       "      )\n",
       "      (layernorm): LayerNorm((256,), eps=1e-05, elementwise_affine=True)\n",
       "    )\n",
       "  )\n",
       "  (class_labels_classifier): Linear(in_features=256, out_features=92, bias=True)\n",
       "  (bbox_predictor): DetrMLPPredictionHead(\n",
       "    (layers): ModuleList(\n",
       "      (0-1): 2 x Linear(in_features=256, out_features=256, bias=True)\n",
       "      (2): Linear(in_features=256, out_features=4, bias=True)\n",
       "    )\n",
       "  )\n",
       ")"
      ]
     },
     "execution_count": 14,
     "metadata": {},
     "output_type": "execute_result"
    }
   ],
   "source": [
    "from transformers import DetrFeatureExtractor, DetrForObjectDetection\n",
    "# Load pretrained DETR model and feature extractor\n",
    "feature_extractor = DetrFeatureExtractor.from_pretrained(\"facebook/detr-resnet-50\")\n",
    "model = DetrForObjectDetection.from_pretrained(\"facebook/detr-resnet-50\").to(device)\n",
    "\n",
    "# Set model to evaluation mode\n",
    "model.eval()\n"
   ]
  },
  {
   "cell_type": "code",
   "execution_count": 15,
   "id": "ee737071-ecab-4a14-91b5-0676d65ac504",
   "metadata": {
    "tags": []
   },
   "outputs": [],
   "source": [
    "def extract_features(image_path):\n",
    "    # Load image and convert to RGB\n",
    "    image = Image.open(image_path).convert(\"RGB\")\n",
    "    image = image.resize((224, 224))  # Adjust the size as needed\n",
    "    \n",
    "    # Prepare image for DETR (Resize, normalize, etc.)\n",
    "    inputs = feature_extractor(images=image, return_tensors=\"pt\").to(device)\n",
    "\n",
    "    # Extract pixel values and create pixel mask\n",
    "    pixel_values = inputs['pixel_values']\n",
    "    \n",
    "    with torch.no_grad():\n",
    "        # Get outputs from the model (including decoder)\n",
    "        outputs = model(pixel_values)\n",
    "\n",
    "    # Extract the decoder hidden states (object queries from last decoder layer)\n",
    "    object_queries = outputs.last_hidden_state  # Last decoder layer output\n",
    "    \n",
    "    # Flatten the object queries to get a 2D tensor\n",
    "    flattened_object_queries = object_queries.view(object_queries.size(0), -1)  # Flatten to [batch_size, num_queries * hidden_dim]\n",
    "\n",
    "    # Move the pooled object queries to the CPU and return them\n",
    "    return flattened_object_queries.cpu()\n"
   ]
  },
  {
   "cell_type": "code",
   "execution_count": 16,
   "id": "c889cebc-24c0-410e-b442-74c55ba1ab34",
   "metadata": {},
   "outputs": [],
   "source": [
    "# # Extract features for all images and save them in a dictionary\n",
    "# features_dict = {}\n",
    "# for image_id in tqdm(image_ids):\n",
    "#     image_path = os.path.join(images_dir, image_id + '.jpg')\n",
    "#     if os.path.exists(image_path):\n",
    "        \n",
    "#         # Extract features using DETR\n",
    "#         features = extract_features(image_path)\n",
    "#         features_dict[image_id] = features"
   ]
  },
  {
   "cell_type": "code",
   "execution_count": 17,
   "id": "0848b565-2a86-4244-9f13-daad0ac942c7",
   "metadata": {},
   "outputs": [],
   "source": [
    "# # Save features to a .pkl file\n",
    "# with open(\"flickr8k_detr_features.pkl\", 'wb') as f:\n",
    "#         pickle.dump(features_dict, f)"
   ]
  },
  {
   "cell_type": "code",
   "execution_count": 18,
   "id": "50ba1510-8d9e-4b83-affc-07d3e572a063",
   "metadata": {},
   "outputs": [],
   "source": [
    "# Load features from a .pkl file\n",
    "with open('flickr8k_detr_features.pkl', 'rb') as f:  # 'rb' for read-binary\n",
    "    features_dict = pickle.load(f)"
   ]
  },
  {
   "cell_type": "code",
   "execution_count": 19,
   "id": "82ef551a-52c2-40d2-90c4-cb6d31747af3",
   "metadata": {
    "jupyter": {
     "source_hidden": true
    },
    "tags": []
   },
   "outputs": [],
   "source": [
    "# # Save 30k features to a .pkl file\n",
    "# with open('flickr30k_detr_features.pkl', 'wb') as f:  # 'wb' for write-binary\n",
    "#     pickle.dump(features_dict, f)"
   ]
  },
  {
   "cell_type": "code",
   "execution_count": 20,
   "id": "05940b97-d9d8-496c-83d9-18b2592d07c7",
   "metadata": {
    "jupyter": {
     "source_hidden": true
    },
    "tags": []
   },
   "outputs": [],
   "source": [
    "# # Load 30kfeatures from a .pkl file\n",
    "# with open('flickr30k_detr_features.pkl', 'rb') as f:  # 'rb' for read-binary\n",
    "#     features_dict = pickle.load(f)"
   ]
  },
  {
   "cell_type": "code",
   "execution_count": 21,
   "id": "4cc41097-1c3f-407f-801c-df8389e64ff7",
   "metadata": {
    "jupyter": {
     "source_hidden": true
    },
    "tags": []
   },
   "outputs": [],
   "source": [
    "class Flickr8kDataset(Dataset):\n",
    "    def __init__(self, features_dict , captions, encoded_captions, image_ids, transform):\n",
    "        self.features_dict  = features_dict \n",
    "        self.captions = captions\n",
    "        self.encoded_captions = encoded_captions\n",
    "        self.image_ids = image_ids\n",
    "        self.transform = transform\n",
    "    \n",
    "    def __len__(self):\n",
    "        return len(self.image_ids)\n",
    "    \n",
    "    def __getitem__(self, idx):\n",
    "        image_id = self.image_ids[idx]\n",
    "        if image_id not in self.features_dict:\n",
    "            # Handle missing features, e.g., skip or use a placeholder\n",
    "            print(f\"Missing features for image ID: {image_id}\")\n",
    "            return None  # Or handle it appropriately\n",
    "\n",
    "        features = self.features_dict[image_id].clone().detach().float()\n",
    "        # Randomly choose one of the captions for this image\n",
    "        # captions_for_image = self.encoded_captions[image_id]\n",
    "        # caption_idx = np.random.randint(0, len(captions_for_image))  # Choose a random caption\n",
    "        \n",
    "        captions_for_image = np.array(self.encoded_captions[image_id])# caption = torch.tensor(captions_for_image[caption_idx], dtype=torch.long)\n",
    "        caption = torch.tensor(captions_for_image, dtype=torch.long)\n",
    "        \n",
    "        return features, caption"
   ]
  },
  {
   "cell_type": "code",
   "execution_count": 22,
   "id": "bdc17753-380e-49e4-9573-fc4f2441c6f6",
   "metadata": {
    "jupyter": {
     "source_hidden": true
    },
    "tags": []
   },
   "outputs": [
    {
     "name": "stdout",
     "output_type": "stream",
     "text": [
      "<class 'dict'>\n"
     ]
    }
   ],
   "source": [
    "def custom_collate_fn(batch):\n",
    "    device = torch.device('cuda' if torch.cuda.is_available() else 'cpu')\n",
    "    \n",
    "    # Filter out None values\n",
    "    batch = list(filter(lambda x: x is not None, batch))\n",
    "    if len(batch) == 0:\n",
    "        return torch.tensor([]).to(device), torch.tensor([]).to(device)  # Return empty tensors if the batch is empty\n",
    "        \n",
    "    # Unpack the batch into features and captions\n",
    "    features, captions = zip(*batch)\n",
    "\n",
    "    # Determine the maximum feature size in the batch\n",
    "    max_feature_size = max(feature.size(1) for feature in features)\n",
    "\n",
    "    # Pad feature tensors to the maximum sequence length\n",
    "    features = torch.stack([\n",
    "        torch.cat((feature.to(device), \n",
    "                   torch.zeros((feature.size(0), max_feature_size - feature.size(1), feature.size(2)), device=device)), dim=1)\n",
    "        for feature in features\n",
    "    ])\n",
    "    \n",
    "    # Stack the captions as they seem to have consistent shape\n",
    "    captions = torch.stack(captions).to(device)\n",
    "    \n",
    "    return features, captions\n",
    "\n",
    "    \n",
    "print(type(captions))  # This should print <class 'dict'>"
   ]
  },
  {
   "cell_type": "code",
   "execution_count": 23,
   "id": "b59ec87e-45e2-4dcf-ad9e-a7c032348497",
   "metadata": {
    "jupyter": {
     "source_hidden": true
    },
    "tags": []
   },
   "outputs": [],
   "source": [
    "import random # Shuffle and split data\n",
    "image_ids = list(captions.keys())\n",
    "random.seed(42)\n",
    "random.shuffle(image_ids)\n",
    "\n",
    "# Calculate indices for splits\n",
    "total_images = len(image_ids)\n",
    "train_end = int(0.7 * total_images)\n",
    "val_end = int(0.9 * total_images)\n",
    "\n",
    "train_ids = image_ids[:train_end]\n",
    "val_ids = image_ids[train_end:val_end]\n",
    "test_ids = image_ids[val_end:]\n",
    "\n",
    "train_dataset = Flickr8kDataset(features_dict, captions, encoded_captions, train_ids, train_transform)\n",
    "val_dataset = Flickr8kDataset(features_dict, captions, encoded_captions, val_ids, test_transform)\n",
    "test_dataset = Flickr8kDataset(features_dict, captions, encoded_captions, test_ids, test_transform)\n",
    "\n",
    "# Create DataLoaders for each split\n",
    "train_loader = DataLoader(train_dataset, batch_size=32, shuffle=True, collate_fn=custom_collate_fn)\n",
    "val_loader = DataLoader(val_dataset, batch_size=32, shuffle=False, collate_fn=custom_collate_fn)\n",
    "test_loader = DataLoader(test_dataset, batch_size=32, shuffle=False, collate_fn=custom_collate_fn)"
   ]
  },
  {
   "cell_type": "code",
   "execution_count": 24,
   "id": "fcfc9f81-3c94-4d4a-8e65-e12718359db5",
   "metadata": {
    "tags": []
   },
   "outputs": [
    {
     "name": "stdout",
     "output_type": "stream",
     "text": [
      "Feature Size: 25600\n"
     ]
    }
   ],
   "source": [
    "sample_image_path = \"dataset/Images/133905560_9d012b47f3.jpg\"  # Replace with a valid image path\n",
    "sample_features = extract_features(sample_image_path)\n",
    "feature_size = sample_features.size(1)\n",
    "print(\"Feature Size:\", feature_size)"
   ]
  },
  {
   "cell_type": "code",
   "execution_count": 25,
   "id": "8b09c47d-2813-4777-aa7b-58e0cde46e89",
   "metadata": {
    "tags": []
   },
   "outputs": [],
   "source": [
    "import torch\n",
    "import torch.nn as nn\n",
    "\n",
    "class ImageCaptioningModel(nn.Module):\n",
    "    def __init__(self, feature_size, hidden_size, vocab_size, embed_size, dropout):\n",
    "        super(ImageCaptioningModel, self).__init__()\n",
    "        self.embedding = nn.Embedding(vocab_size, embed_size, padding_idx=0)\n",
    "        self.dropout = nn.Dropout(dropout)\n",
    "        self.lstm = nn.LSTM(embed_size, hidden_size, batch_first=True)\n",
    "        self.lstm_dropout = nn.Dropout(dropout)  # Dropout after LSTM\n",
    "        self.linear = nn.Linear(hidden_size, vocab_size)\n",
    "        self.feature_fc = nn.Linear(feature_size, embed_size)  # Adapt DETR output to LSTM\n",
    "    \n",
    "    def forward(self, features, captions):\n",
    "        features = features.to(device)\n",
    "        captions = captions.to(device)\n",
    "        \n",
    "        # Project features to embedding size\n",
    "        batch_size = features.size(0)\n",
    "        features = features.view(batch_size, -1)  # Flatten the feature tensor\n",
    "        features = self.feature_fc(features).unsqueeze(1)  # [batch_size, 1, embed_size]\n",
    "        \n",
    "        # Prepare LSTM inputs\n",
    "        embeddings = self.embedding(captions)\n",
    "        embeddings = self.dropout(embeddings)  # Dropout after embedding layer\n",
    "        inputs = torch.cat((features, embeddings[:, :-1, :]), dim=1)  # Concatenate features with captions\n",
    "        \n",
    "        # Pass through LSTM\n",
    "        hiddens, _ = self.lstm(inputs)\n",
    "        hiddens = self.lstm_dropout(hiddens)  # Dropout after LSTM hidden states\n",
    "        outputs = self.linear(hiddens)\n",
    "        return outputs\n",
    "\n",
    "# Model parameters\n",
    "feature_size = 6400  # or 25600 depending on your actual feature size\n",
    "hidden_size = 1024\n",
    "embed_size = 256\n",
    "dropout = 0.5\n",
    "vocab_size = len(word_to_ix)  # Ensure you have defined word_to_ix\n",
    "\n",
    "# Instantiate the model\n",
    "captioning_model = ImageCaptioningModel(feature_size, hidden_size, vocab_size, embed_size, dropout)\n",
    "captioning_model = captioning_model.to(device)\n"
   ]
  },
  {
   "cell_type": "code",
   "execution_count": 26,
   "id": "c68906ec-289a-4b6d-84c5-7586e9d4c723",
   "metadata": {
    "tags": []
   },
   "outputs": [],
   "source": [
    "class EarlyStopping:\n",
    "    def __init__(self, patience=5, delta=0.01):\n",
    "        self.patience = patience\n",
    "        self.delta = delta\n",
    "        self.best_loss = float('inf')\n",
    "        self.counter = 0\n",
    "        self.early_stop = False\n",
    "\n",
    "    def __call__(self, val_loss):\n",
    "        if val_loss < self.best_loss - self.delta:\n",
    "            self.best_loss = val_loss\n",
    "            self.counter = 0\n",
    "        else:\n",
    "            self.counter += 1\n",
    "            if self.counter >= self.patience:\n",
    "                self.early_stop = True"
   ]
  },
  {
   "cell_type": "code",
   "execution_count": 27,
   "id": "b2c73c28-deb9-4d00-9e85-025ed63d522c",
   "metadata": {
    "tags": []
   },
   "outputs": [
    {
     "name": "stderr",
     "output_type": "stream",
     "text": [
      "Epoch [2/40]:   3%|▎         | 229/9120 [00:27<09:07, 16.25it/s, Step=0, Loss=3.48]   "
     ]
    },
    {
     "name": "stdout",
     "output_type": "stream",
     "text": [
      "Epoch [1/40], Validation Loss: 3.4370822158514285\n"
     ]
    },
    {
     "name": "stderr",
     "output_type": "stream",
     "text": [
      "Epoch [3/40]:   5%|▌         | 457/9120 [00:55<08:59, 16.06it/s, Step=0, Loss=3.24]   "
     ]
    },
    {
     "name": "stdout",
     "output_type": "stream",
     "text": [
      "Epoch [2/40], Validation Loss: 3.2260530742944455\n"
     ]
    },
    {
     "name": "stderr",
     "output_type": "stream",
     "text": [
      "Epoch [4/40]:   8%|▊         | 685/9120 [01:23<08:48, 15.96it/s, Step=0, Loss=3.12]  "
     ]
    },
    {
     "name": "stdout",
     "output_type": "stream",
     "text": [
      "Epoch [3/40], Validation Loss: 3.1042121204675412\n"
     ]
    },
    {
     "name": "stderr",
     "output_type": "stream",
     "text": [
      "Epoch [5/40]:  10%|█         | 913/9120 [01:51<08:42, 15.70it/s, Step=0, Loss=2.92]   "
     ]
    },
    {
     "name": "stdout",
     "output_type": "stream",
     "text": [
      "Epoch [4/40], Validation Loss: 3.0494663107628917\n"
     ]
    },
    {
     "name": "stderr",
     "output_type": "stream",
     "text": [
      "Epoch [6/40]:  13%|█▎        | 1141/9120 [02:20<08:28, 15.70it/s, Step=0, Loss=3.04]   "
     ]
    },
    {
     "name": "stdout",
     "output_type": "stream",
     "text": [
      "Epoch [5/40], Validation Loss: 3.0187244929519355\n"
     ]
    },
    {
     "name": "stderr",
     "output_type": "stream",
     "text": [
      "Epoch [7/40]:  15%|█▌        | 1369/9120 [02:49<08:18, 15.54it/s, Step=0, Loss=2.86]   "
     ]
    },
    {
     "name": "stdout",
     "output_type": "stream",
     "text": [
      "Epoch [6/40], Validation Loss: 2.982947630040786\n"
     ]
    },
    {
     "name": "stderr",
     "output_type": "stream",
     "text": [
      "Epoch [8/40]:  18%|█▊        | 1597/9120 [03:17<08:00, 15.66it/s, Step=0, Loss=2.93]   "
     ]
    },
    {
     "name": "stdout",
     "output_type": "stream",
     "text": [
      "Epoch [7/40], Validation Loss: 2.959239590401743\n"
     ]
    },
    {
     "name": "stderr",
     "output_type": "stream",
     "text": [
      "Epoch [9/40]:  20%|██        | 1825/9120 [03:46<07:48, 15.56it/s, Step=0, Loss=2.76]   "
     ]
    },
    {
     "name": "stdout",
     "output_type": "stream",
     "text": [
      "Epoch [8/40], Validation Loss: 2.937050637076883\n"
     ]
    },
    {
     "name": "stderr",
     "output_type": "stream",
     "text": [
      "Epoch [10/40]:  23%|██▎       | 2053/9120 [04:15<07:34, 15.54it/s, Step=0, Loss=3.02]   "
     ]
    },
    {
     "name": "stdout",
     "output_type": "stream",
     "text": [
      "Epoch [9/40], Validation Loss: 2.9347393559474573\n"
     ]
    },
    {
     "name": "stderr",
     "output_type": "stream",
     "text": [
      "Epoch [11/40]:  25%|██▌       | 2281/9120 [04:44<07:21, 15.50it/s, Step=0, Loss=2.79]   "
     ]
    },
    {
     "name": "stdout",
     "output_type": "stream",
     "text": [
      "Epoch [10/40], Validation Loss: 2.914818291570626\n"
     ]
    },
    {
     "name": "stderr",
     "output_type": "stream",
     "text": [
      "Epoch [12/40]:  28%|██▊       | 2509/9120 [05:12<07:13, 15.24it/s, Step=0, Loss=2.49]   "
     ]
    },
    {
     "name": "stdout",
     "output_type": "stream",
     "text": [
      "Epoch [11/40], Validation Loss: 2.8947014013926187\n"
     ]
    },
    {
     "name": "stderr",
     "output_type": "stream",
     "text": [
      "Epoch [13/40]:  30%|███       | 2737/9120 [05:41<06:56, 15.33it/s, Step=0, Loss=2.82]  "
     ]
    },
    {
     "name": "stdout",
     "output_type": "stream",
     "text": [
      "Epoch [12/40], Validation Loss: 2.9000027039471794\n"
     ]
    },
    {
     "name": "stderr",
     "output_type": "stream",
     "text": [
      "Epoch [14/40]:  33%|███▎      | 2965/9120 [06:10<06:44, 15.22it/s, Step=0, Loss=2.87]   "
     ]
    },
    {
     "name": "stdout",
     "output_type": "stream",
     "text": [
      "Epoch [13/40], Validation Loss: 2.8947843289842794\n"
     ]
    },
    {
     "name": "stderr",
     "output_type": "stream",
     "text": [
      "Epoch [15/40]:  35%|███▌      | 3193/9120 [06:39<06:29, 15.22it/s, Step=0, Loss=2.8]    "
     ]
    },
    {
     "name": "stdout",
     "output_type": "stream",
     "text": [
      "Epoch [14/40], Validation Loss: 2.8682611222360648\n"
     ]
    },
    {
     "name": "stderr",
     "output_type": "stream",
     "text": [
      "Epoch [16/40]:  38%|███▊      | 3421/9120 [07:09<06:14, 15.22it/s, Step=0, Loss=2.83]   "
     ]
    },
    {
     "name": "stdout",
     "output_type": "stream",
     "text": [
      "Epoch [15/40], Validation Loss: 2.8764285667269838\n"
     ]
    },
    {
     "name": "stderr",
     "output_type": "stream",
     "text": [
      "Epoch [17/40]:  40%|████      | 3649/9120 [07:38<06:02, 15.11it/s, Step=0, Loss=2.82]   "
     ]
    },
    {
     "name": "stdout",
     "output_type": "stream",
     "text": [
      "Epoch [16/40], Validation Loss: 2.870807778601553\n"
     ]
    },
    {
     "name": "stderr",
     "output_type": "stream",
     "text": [
      "Epoch [18/40]:  43%|████▎     | 3877/9120 [08:07<05:46, 15.13it/s, Step=0, Loss=2.76]   "
     ]
    },
    {
     "name": "stdout",
     "output_type": "stream",
     "text": [
      "Epoch [17/40], Validation Loss: 2.8754104071972417\n"
     ]
    },
    {
     "name": "stderr",
     "output_type": "stream",
     "text": [
      "Epoch [18/40]:  45%|████▌     | 4104/9120 [08:36<10:31,  7.94it/s, Validation Loss=2.87]"
     ]
    },
    {
     "name": "stdout",
     "output_type": "stream",
     "text": [
      "Epoch [18/40], Validation Loss: 2.8687110601686965\n",
      "Early stopping\n"
     ]
    },
    {
     "name": "stderr",
     "output_type": "stream",
     "text": [
      "\n"
     ]
    }
   ],
   "source": [
    "# Training loop\n",
    "criterion = nn.CrossEntropyLoss(ignore_index=word_to_ix['<PAD>'])\n",
    "optimizer = Adam(captioning_model.parameters(), lr=0.002, weight_decay=0.0001)\n",
    "num_epochs = 40\n",
    "early_stopping = EarlyStopping(patience=4, delta=0.01)  # Adjust patience and delta as needed\n",
    "train_loss_values = []\n",
    "val_loss_values = []\n",
    "\n",
    "# Create a tqdm instance to show global progress for training and validation\n",
    "total_steps = num_epochs * len(train_loader) + num_epochs * len(val_loader)\n",
    "with tqdm(total=total_steps, desc='Training Progress') as pbar:\n",
    "    for epoch in range(num_epochs):\n",
    "        captioning_model.train()\n",
    "        epoch_train_loss = 0\n",
    "        for i, (features, captions) in enumerate(train_loader):\n",
    "            if features.shape[0] == 0:  # Skip if batch is empty\n",
    "                continue\n",
    "                \n",
    "            # Move inputs and targets to the selected device (GPU or CPU)\n",
    "            features = features.to(device)\n",
    "            captions = captions.to(device)\n",
    "            \n",
    "            optimizer.zero_grad()\n",
    "\n",
    "            batch_size = features.size(0)  # Batch size (e.g., 32)\n",
    "            num_captions = captions.size(1)  # Number of captions (e.g., 5)\n",
    "            sequence_length = features.size(2)  # Sequence length (25)\n",
    "            feature_size = features.size(3)  # Feature embedding size (256)\n",
    "\n",
    "            # Squeeze out the extra dimensions in `features` to make it [batch_size, feature_size]\n",
    "            features = features.squeeze(1)  # Removing the unnecessary singleton dimensions\n",
    "\n",
    "            # Now expand the features to repeat them across the captions dimension\n",
    "            features = features.unsqueeze(1).expand(-1, num_captions, -1, -1)  # [batch_size, num_captions, sequence_length, feature_size]\n",
    "\n",
    "            # Flatten features for input into the model\n",
    "            features = features.contiguous().view(batch_size * num_captions, sequence_length, feature_size)\n",
    "            # Reshape captions as well\n",
    "            captions = captions.view(batch_size * num_captions, -1)  # Make sure to handle caption shape accordingly\n",
    "\n",
    "            # Forward pass\n",
    "            outputs = captioning_model(features, captions)\n",
    "            loss = criterion(outputs[:, :captions.size(1), :].view(-1, vocab_size), captions.view(-1))\n",
    "\n",
    "            # Backward pass and optimization\n",
    "            loss.backward()\n",
    "            optimizer.step()\n",
    "\n",
    "            epoch_train_loss += loss.item()\n",
    "\n",
    "            pbar.set_description(f'Epoch [{epoch+1}/{num_epochs}]')\n",
    "            pbar.set_postfix({'Step': i, 'Loss': loss.item()})\n",
    "            pbar.update(1)\n",
    "        \n",
    "        epoch_train_loss /= len(train_loader)\n",
    "        train_loss_values.append(epoch_train_loss)\n",
    "\n",
    "        # Validation loop\n",
    "        captioning_model.eval()\n",
    "        epoch_val_loss = 0\n",
    "        with torch.no_grad():\n",
    "            for features, captions in val_loader:\n",
    "                if features.shape[0] == 0:  # Skip empty batches\n",
    "                    continue\n",
    "                # Move inputs and targets to the selected device (GPU or CPU)\n",
    "                features = features.to(device)\n",
    "                captions = captions.to(device)\n",
    "                \n",
    "                batch_size = features.size(0)  # Batch size (e.g., 32)\n",
    "                num_captions = captions.size(1)  # Number of captions (e.g., 5)\n",
    "                sequence_length = features.size(2)  # Sequence length (25)\n",
    "                feature_size = features.size(3)  # Feature embedding size (256)\n",
    "\n",
    "                # Squeeze out the extra dimensions in `features` to make it [batch_size, feature_size]\n",
    "                features = features.squeeze(1)  # Removing the unnecessary singleton dimensions\n",
    "    \n",
    "                # Now expand the features to repeat them across the captions dimension\n",
    "                features = features.unsqueeze(1).expand(-1, num_captions, -1, -1)  # [batch_size, num_captions, sequence_length, feature_size]\n",
    "    \n",
    "                # Flatten features for input into the model\n",
    "                features = features.contiguous().view(batch_size * num_captions, sequence_length, feature_size)\n",
    "                # Reshape captions as well\n",
    "                captions = captions.view(batch_size * num_captions, -1)  # Make sure to handle caption shape accordingly\n",
    "\n",
    "                # Forward pass\n",
    "                outputs = captioning_model(features, captions)\n",
    "                loss = criterion(outputs.view(-1, vocab_size), captions.view(-1))\n",
    "                epoch_val_loss += loss.item()\n",
    "                pbar.update(1)  # Update progress bar for validation batches\n",
    "\n",
    "        epoch_val_loss /= len(val_loader)\n",
    "        val_loss_values.append(epoch_val_loss)\n",
    "        print(f'Epoch [{epoch+1}/{num_epochs}], Validation Loss: {epoch_val_loss}')\n",
    "\n",
    "        # Update tqdm progress bar to reflect the completion of an epoch\n",
    "        pbar.set_description(f'Epoch [{epoch+1}/{num_epochs}]')\n",
    "        pbar.set_postfix({'Validation Loss': epoch_val_loss})\n",
    "\n",
    "        # Early stopping\n",
    "        early_stopping(epoch_val_loss)\n",
    "        if early_stopping.early_stop:\n",
    "            print(\"Early stopping\")\n",
    "            break\n"
   ]
  },
  {
   "cell_type": "code",
   "execution_count": 28,
   "id": "7411abb0-1b3e-4a58-b438-101e9679ff7d",
   "metadata": {
    "scrolled": true,
    "tags": []
   },
   "outputs": [
    {
     "name": "stdout",
     "output_type": "stream",
     "text": [
      "Model saved to captioning_model.pth\n"
     ]
    }
   ],
   "source": [
    "model_save_path = 'captioning_model.pth'\n",
    "\n",
    "# Save the model's state dictionary\n",
    "torch.save(captioning_model.state_dict(), model_save_path)\n",
    "print(f\"Model saved to {model_save_path}\")"
   ]
  },
  {
   "cell_type": "code",
   "execution_count": 29,
   "id": "6ed4fac2-d20d-4d35-8c5a-db734c89339e",
   "metadata": {
    "jupyter": {
     "source_hidden": true
    },
    "tags": []
   },
   "outputs": [
    {
     "name": "stdout",
     "output_type": "stream",
     "text": [
      "Model loaded from captioning_model.pth\n"
     ]
    },
    {
     "name": "stderr",
     "output_type": "stream",
     "text": [
      "C:\\Users\\Mohamed\\AppData\\Local\\Temp\\ipykernel_5900\\3224590603.py:5: FutureWarning: You are using `torch.load` with `weights_only=False` (the current default value), which uses the default pickle module implicitly. It is possible to construct malicious pickle data which will execute arbitrary code during unpickling (See https://github.com/pytorch/pytorch/blob/main/SECURITY.md#untrusted-models for more details). In a future release, the default value for `weights_only` will be flipped to `True`. This limits the functions that could be executed during unpickling. Arbitrary objects will no longer be allowed to be loaded via this mode unless they are explicitly allowlisted by the user via `torch.serialization.add_safe_globals`. We recommend you start setting `weights_only=True` for any use case where you don't have full control of the loaded file. Please open an issue on GitHub for any issues related to this experimental feature.\n",
      "  captioning_model.load_state_dict(torch.load(model_save_path))\n"
     ]
    }
   ],
   "source": [
    "# Define the path where the model is saved\n",
    "model_save_path = 'captioning_model.pth'\n",
    "\n",
    "# Load the state dictionary into the model\n",
    "captioning_model.load_state_dict(torch.load(model_save_path))\n",
    "# Set the model to evaluation mode\n",
    "captioning_model.eval()\n",
    "\n",
    "print(f\"Model loaded from {model_save_path}\")"
   ]
  },
  {
   "cell_type": "code",
   "execution_count": 30,
   "id": "2c45dd76-776c-427c-99ad-337740e89c85",
   "metadata": {
    "tags": []
   },
   "outputs": [],
   "source": [
    "# Save loss values to a file\n",
    "with open('train_loss_values.json', 'w') as f:\n",
    "    json.dump(train_loss_values, f)\n",
    "# Save loss values to a file\n",
    "with open('val_loss_values.json', 'w') as f:\n",
    "    json.dump(val_loss_values, f)"
   ]
  },
  {
   "cell_type": "code",
   "execution_count": 31,
   "id": "75875a4d-a458-4c74-8a4b-7e30617fe81c",
   "metadata": {
    "scrolled": true,
    "tags": []
   },
   "outputs": [
    {
     "data": {
      "image/png": "[encoded data removed]",
      "text/plain": [
       "<Figure size 640x480 with 1 Axes>"
      ]
     },
     "metadata": {},
     "output_type": "display_data"
    }
   ],
   "source": [
    "def load_json(filename):\n",
    "    try:\n",
    "        with open(filename, 'r') as f:\n",
    "            data = json.load(f)\n",
    "        if not data:\n",
    "            print(f\"Warning: {filename} is empty.\")\n",
    "        return data\n",
    "    except FileNotFoundError:\n",
    "        print(f\"Error: {filename} not found.\")\n",
    "        return None\n",
    "    except json.JSONDecodeError:\n",
    "        print(f\"Error: Could not decode JSON from {filename}.\")\n",
    "        return None\n",
    "\n",
    "# Load the loss values\n",
    "train_loss_values = load_json('train_loss_values.json')\n",
    "val_loss_values = load_json('val_loss_values.json')\n",
    "\n",
    "# show thier values\n",
    "train_loss_values ,val_loss_values\n",
    "\n",
    "# Simplified plot without specifying figsize\n",
    "plt.plot(train_loss_values, label='Training Loss')\n",
    "plt.plot(val_loss_values, label='Validation Loss')\n",
    "plt.xlabel('Epoch')\n",
    "plt.ylabel('Loss')\n",
    "plt.legend()\n",
    "plt.show()"
   ]
  },
  {
   "cell_type": "code",
   "execution_count": 32,
   "id": "81136913-e128-4feb-9683-25e339ad6f6a",
   "metadata": {
    "jupyter": {
     "source_hidden": true
    },
    "tags": []
   },
   "outputs": [
    {
     "name": "stdout",
     "output_type": "stream",
     "text": [
      "Test Loss: 2.8863517229373636\n"
     ]
    }
   ],
   "source": [
    "# Testing phase\n",
    "captioning_model.eval()\n",
    "test_loss = 0\n",
    "with torch.no_grad():\n",
    "    for features, captions in test_loader:\n",
    "        if features.shape[0] == 0:  # Skip empty batches\n",
    "            continue\n",
    "        # Move inputs and targets to the selected device (GPU or CPU)\n",
    "        features = features.to(device)\n",
    "        captions = captions.to(device)\n",
    "                \n",
    "        batch_size = features.size(0)  # Batch size (e.g., 32)\n",
    "        num_captions = captions.size(1)  # Number of captions (e.g., 5)\n",
    "        sequence_length = features.size(2)  # Sequence length (25)\n",
    "        feature_size = features.size(3)  # Feature embedding size (256)\n",
    "\n",
    "        # Squeeze out the extra dimensions in `features` to make it [batch_size, feature_size]\n",
    "        features = features.squeeze(1)  # Removing the unnecessary singleton dimensions\n",
    "\n",
    "        # Now expand the features to repeat them across the captions dimension\n",
    "        features = features.unsqueeze(1).expand(-1, num_captions, -1, -1)  # [batch_size, num_captions, sequence_length, feature_size]\n",
    "\n",
    "        # Flatten features for input into the model\n",
    "        features = features.contiguous().view(batch_size * num_captions, sequence_length, feature_size)\n",
    "        # Reshape captions as well\n",
    "        captions = captions.view(batch_size * num_captions, -1)  # Make sure to handle caption shape accordingly\n",
    "\n",
    "        # Forward pass\n",
    "        outputs = captioning_model(features, captions)\n",
    "        loss = criterion(outputs.view(-1, vocab_size), captions.view(-1))\n",
    "        test_loss += loss.item()\n",
    "\n",
    "# Compute average test loss\n",
    "test_loss /= len(test_loader)\n",
    "print(f'Test Loss: {test_loss}')\n"
   ]
  },
  {
   "cell_type": "code",
   "execution_count": 33,
   "id": "9652b12d-a02b-4ec8-92b9-886058a41389",
   "metadata": {
    "tags": []
   },
   "outputs": [],
   "source": [
    "# Preprocess the image to match the expected input for the DETR model\n",
    "def preprocess_image(image_path):\n",
    "     # Instead of checking for string, print and check what's being passed\n",
    "    print(f\"Preprocessing image, path: {image_path}, type: {type(image_path)}\")  \n",
    "    if not isinstance(image_path, str):\n",
    "        raise TypeError(\"image_path should be a string.\")\n",
    "    image = Image.open(image_path).convert('RGB')\n",
    "    image = feature_extraction_transform(image)  # Apply your feature extraction transformation\n",
    "    image = image.unsqueeze(0)  # Add batch dimension (1, 3, H, W)\n",
    "    return image\n",
    "    \n",
    "# Extract image features for the captioning model\n",
    "def extract_image_features(image_path, model, device):\n",
    "    image_tensor = preprocess_image(image_path).to(device)\n",
    "    with torch.no_grad():\n",
    "        # Pass through the DETR model (it expects `pixel_values`)\n",
    "        features = model(pixel_values=image_tensor).last_hidden_state  # Extract features\n",
    "        features = features.view(features.size(0), -1)  # Flatten features\n",
    "        features = features[:, :6400] \n",
    "    return features\n"
   ]
  },
  {
   "cell_type": "code",
   "execution_count": 34,
   "id": "eb495eeb-0051-4e02-af54-40fdc9e99f57",
   "metadata": {
    "tags": []
   },
   "outputs": [],
   "source": [
    "def remove_repetitive_words(caption):\n",
    "    \"\"\"\n",
    "    Removes consecutive repetitive words from the caption.\n",
    "    \"\"\"\n",
    "    words = caption.split()\n",
    "    filtered_words = [words[0]]  # Initialize with the first word\n",
    "    \n",
    "    for i in range(1, len(words)):\n",
    "        if words[i] != words[i - 1]:\n",
    "            filtered_words.append(words[i])\n",
    "    \n",
    "    return ' '.join(filtered_words)\n",
    "\n",
    "\n",
    "def generate_caption(captioning_model, model, image_path, word_to_ix, ix_to_word, max_length,feature_size=feature_size, beam_size=5):\n",
    "    \"\"\"\n",
    "    Generate a caption for an image using the trained captioning model and DETR Transformer for feature extraction.\n",
    "    \"\"\"\n",
    "    \n",
    "    print(f\"Image Path: {image_path}\")  # Debugging step\n",
    "    if not isinstance(image_path, str):\n",
    "        raise TypeError(\"image_path should be a valid string representing the file path.\")\n",
    "    device = torch.device('cuda' if torch.cuda.is_available() else 'cpu')\n",
    "    \n",
    "    # Extract features from the image using the DETR model\n",
    "    with torch.no_grad():\n",
    "         # Preprocess the image and extract features\n",
    "        features = extract_image_features(image_path, model, device)  # Shape is [1, 6400] now\n",
    "        features = features.view(1, 6400)  # Ensure correct feature size\n",
    "        print(f\"Extracted feature shape: {features.shape}\")\n",
    "\n",
    "    # Initialize beam search with <START> token and a score of 0\n",
    "    beam = [([word_to_ix['<START>']], 0)]  # (sequence, score)\n",
    "    \n",
    "    for _ in range(max_length):\n",
    "        new_beam = []\n",
    "        \n",
    "        for seq, score in beam:\n",
    "            caption_tensor = torch.tensor(seq, dtype=torch.long).unsqueeze(0).to(device)  # Convert sequence to tensor\n",
    "            \n",
    "            with torch.no_grad():\n",
    "                outputs = captioning_model(features, caption_tensor)  # Forward pass through captioning model\n",
    "            \n",
    "            # Get top beam_size predictions for the next word\n",
    "            top_k_scores, top_k_ids = torch.topk(outputs[0, -1], beam_size)\n",
    "            \n",
    "            # Iterate over top beam_size predictions\n",
    "            for i in range(beam_size):\n",
    "                new_seq = seq + [top_k_ids[i].item()]  # Append new word to sequence\n",
    "                new_score = score + top_k_scores[i].item()  # Update score with log probability\n",
    "                new_beam.append((new_seq, new_score))\n",
    "\n",
    "        # Keep only the top beam_size sequences\n",
    "        beam = sorted(new_beam, key=lambda x: x[1], reverse=True)[:beam_size]\n",
    "        \n",
    "        # Stop if any sequence has generated the <END> token\n",
    "        if any(seq[-1] == word_to_ix['<END>'] for seq, _ in beam):\n",
    "            break\n",
    "\n",
    "    # Choose the best sequence (the one with the highest score)\n",
    "    best_seq = max(beam, key=lambda x: x[1])[0]\n",
    "\n",
    "    # Skip the <START> and <END> tokens and convert the indices back to words\n",
    "    caption = ' '.join([ix_to_word[ix] for ix in best_seq if ix not in [word_to_ix['<START>'], word_to_ix['<END>']]])\n",
    "\n",
    "    # Remove repetitive words from the caption\n",
    "    caption = remove_repetitive_words(caption)\n",
    "    \n",
    "    return caption\n"
   ]
  },
  {
   "cell_type": "code",
   "execution_count": null,
   "id": "e966362a-c137-401c-9315-c44622a970b5",
   "metadata": {
    "scrolled": true
   },
   "outputs": [],
   "source": [
    "import gc\n",
    "# Path to the image you want to caption\n",
    "image_path = 'dataset/Images/207275121_ee4dfa0bf2.jpg'\n",
    "# Generate caption\n",
    "feature_size = 6400\n",
    "max_length = 30  # Maximum caption length\n",
    "\n",
    "# try:\n",
    "# Ensure synchronization before running the caption generation\n",
    "torch.cuda.synchronize()\n",
    "\n",
    "# Generate caption using preloaded models\n",
    "caption = generate_caption(captioning_model, model, image_path, word_to_ix, ix_to_word, max_length, feature_size, beam_size=5)\n",
    "\n",
    "# Load the image\n",
    "image = Image.open(image_path)\n",
    "\n",
    "# Convert image to numpy array\n",
    "image_array = np.array(image)\n",
    "\n",
    "# Create a new figure\n",
    "fig, ax = plt.subplots()\n",
    "\n",
    "# Plot the image and add the caption\n",
    "ax.imshow(image_array)\n",
    "ax.axis('off')  # Hide axes\n",
    "ax.set_title(caption)\n",
    "\n",
    "# Save the image with caption before showing it\n",
    "fig.savefig('image_with_caption.png', bbox_inches='tight', pad_inches=0)  # Save the plot as a PNG file\n",
    "\n",
    "# Display the image and the caption\n",
    "plt.show()  # Ensure the image is displayed with the caption\n",
    "\n",
    "# Free resources by clearing the figure\n",
    "plt.close(fig)  # Close the current figure after saving the image\n",
    "\n",
    "# Manually clear GPU cache and force garbage collection\n",
    "torch.cuda.empty_cache()  # Clear the GPU cache\n",
    "gc.collect()  # Force garbage collection to free RAM\n",
    "\n",
    "# except Exception as e:\n",
    "#     print(f\"Error during caption generation: {e}\")"
   ]
  },
  {
   "cell_type": "code",
   "execution_count": null,
   "id": "b9e18673-f54e-4639-9e6c-837740caa592",
   "metadata": {},
   "outputs": [],
   "source": [
    "caption"
   ]
  },
  {
   "cell_type": "code",
   "execution_count": 37,
   "id": "082748cf-ebad-44e9-9538-34c454aa44eb",
   "metadata": {
    "tags": []
   },
   "outputs": [
    {
     "name": "stderr",
     "output_type": "stream",
     "text": [
      "Testing: 100%|██████████| 26/26 [00:01<00:00, 16.85it/s]\n"
     ]
    },
    {
     "name": "stdout",
     "output_type": "stream",
     "text": [
      "Test Loss: 2.8863517229373636\n",
      "BLEU-1 Score: 0.36587084078780974\n",
      "BLEU-2 Score: 0.22793517375361835\n",
      "BLEU-3 Score: 0.16567726853269638\n",
      "BLEU-4 Score: 0.1139180228254251\n"
     ]
    }
   ],
   "source": [
    "from tqdm import tqdm\n",
    "from nltk.translate.bleu_score import corpus_bleu, SmoothingFunction\n",
    "import fractions\n",
    "\n",
    "# Custom fraction class to avoid the unexpected keyword argument '_normalize' issue\n",
    "class CustomFraction(fractions.Fraction):\n",
    "    def __new__(cls, numerator=0, denominator=None, _normalize=True):\n",
    "        return super().__new__(cls, numerator, denominator)\n",
    "\n",
    "# Override the modified_precision function in nltk\n",
    "import nltk.translate.bleu_score as bleu_score\n",
    "bleu_score.Fraction = CustomFraction\n",
    "\n",
    "# Testing phase with BLEU score calculation and tqdm progress bar\n",
    "captioning_model.eval()\n",
    "test_loss = 0\n",
    "bleu_scores = []\n",
    "smoothing_function = SmoothingFunction().method4\n",
    "\n",
    "# Lists to collect actual and predicted captions for BLEU score calculation\n",
    "actual_captions = []\n",
    "predicted_captions_list = []\n",
    "\n",
    "# Use tqdm to track the progress of the testing phase\n",
    "with torch.no_grad():\n",
    "    for features, captions in tqdm(test_loader, desc=\"Testing\"):\n",
    "        if features.shape[0] == 0:\n",
    "            continue\n",
    "        features = features.to(device)\n",
    "        captions = captions.to(device)\n",
    "        batch_size = features.size(0)  # Batch size (e.g., 32)\n",
    "        num_captions = captions.size(1)  # Number of captions (e.g., 5)\n",
    "        sequence_length = features.size(2)  # Sequence length (25)\n",
    "        feature_size = features.size(3)  # Feature embedding size (256)\n",
    "\n",
    "        # Squeeze out the extra dimensions in `features` to make it [batch_size, feature_size]\n",
    "        features = features.squeeze(1)  # Removing the unnecessary singleton dimensions\n",
    "\n",
    "        # Now expand the features to repeat them across the captions dimension\n",
    "        features = features.unsqueeze(1).expand(-1, num_captions, -1, -1)  # [batch_size, num_captions, sequence_length, feature_size]\n",
    "\n",
    "        # Flatten features for input into the model\n",
    "        features = features.contiguous().view(batch_size * num_captions, sequence_length, feature_size)\n",
    "        # Reshape captions as well\n",
    "        captions = captions.view(batch_size * num_captions, -1)  # Make sure to handle caption shape accordingly\n",
    "\n",
    "        # Forward pass\n",
    "        outputs = captioning_model(features, captions)\n",
    "        loss = criterion(outputs.view(-1, vocab_size), captions.view(-1))\n",
    "        test_loss += loss.item()\n",
    "\n",
    "        # Decode the outputs and collect captions\n",
    "        predicted_captions = outputs.argmax(2).cpu().numpy()\n",
    "        for pred, actual in zip(predicted_captions, captions.cpu().numpy()):\n",
    "            pred_caption = [ix_to_word[ix] for ix in pred if ix not in {word_to_ix['<PAD>'], word_to_ix['<START>'], word_to_ix['<END>'], word_to_ix['<UNK>']}]\n",
    "            actual_caption = [ix_to_word[ix] for ix in actual if ix not in {word_to_ix['<PAD>'], word_to_ix['<START>'], word_to_ix['<END>'], word_to_ix['<UNK>']}]\n",
    "            actual_captions.append(actual_caption)\n",
    "            predicted_captions_list.append(pred_caption)\n",
    "\n",
    "# Calculate BLEU scores for all captions\n",
    "bleu1 = corpus_bleu([[actual] for actual in actual_captions], predicted_captions_list, weights=(1, 0, 0, 0), smoothing_function=smoothing_function)\n",
    "bleu2 = corpus_bleu([[actual] for actual in actual_captions], predicted_captions_list, weights=(0.5, 0.5, 0, 0), smoothing_function=smoothing_function)\n",
    "bleu3 = corpus_bleu([[actual] for actual in actual_captions], predicted_captions_list, weights=(0.33, 0.33, 0.33, 0), smoothing_function=smoothing_function)\n",
    "bleu4 = corpus_bleu([[actual] for actual in actual_captions], predicted_captions_list, weights=(0.25, 0.25, 0.25, 0.25), smoothing_function=smoothing_function)\n",
    "\n",
    "# Calculate average loss\n",
    "test_loss /= len(test_loader)\n",
    "print(f'Test Loss: {test_loss}')\n",
    "print(f'BLEU-1 Score: {bleu1}')\n",
    "print(f'BLEU-2 Score: {bleu2}')\n",
    "print(f'BLEU-3 Score: {bleu3}')\n",
    "print(f'BLEU-4 Score: {bleu4}')\n"
   ]
  },
  {
   "cell_type": "code",
   "execution_count": 38,
   "id": "e49e7c22-a0b7-4db4-944c-bc9f2aeafe9c",
   "metadata": {
    "jupyter": {
     "source_hidden": true
    },
    "tags": []
   },
   "outputs": [
    {
     "name": "stderr",
     "output_type": "stream",
     "text": [
      "Testing: 100%|██████████| 26/26 [00:01<00:00, 13.57it/s]"
     ]
    },
    {
     "name": "stdout",
     "output_type": "stream",
     "text": [
      "Test Loss: 2.8863517229373636\n",
      "Average BLEU Score: 0.16445025920032783\n"
     ]
    },
    {
     "name": "stderr",
     "output_type": "stream",
     "text": [
      "\n"
     ]
    }
   ],
   "source": [
    "from tqdm import tqdm\n",
    "from nltk.translate.bleu_score import sentence_bleu, SmoothingFunction\n",
    "import fractions\n",
    "\n",
    "# Custom fraction class to avoid the unexpected keyword argument '_normalize' issue\n",
    "class CustomFraction(fractions.Fraction):\n",
    "    def __new__(cls, numerator=0, denominator=None, _normalize=True):\n",
    "        return super().__new__(cls, numerator, denominator)\n",
    "\n",
    "# Override the modified_precision function in nltk\n",
    "import nltk.translate.bleu_score as bleu_score\n",
    "bleu_score.Fraction = CustomFraction\n",
    "\n",
    "# Testing phase with BLEU score calculation and tqdm progress bar\n",
    "captioning_model.eval()\n",
    "test_loss = 0\n",
    "bleu_scores = []\n",
    "smoothing_function = SmoothingFunction().method4\n",
    "\n",
    "# Use tqdm to track the progress of the testing phase\n",
    "with torch.no_grad():\n",
    "    for features, captions in tqdm(test_loader, desc=\"Testing\"):\n",
    "        if features.shape[0] == 0:\n",
    "            continue\n",
    "        # Move inputs and targets to the selected device (GPU or CPU)\n",
    "        features = features.to(device)\n",
    "        captions = captions.to(device)\n",
    "                \n",
    "        batch_size = features.size(0)  # Batch size (e.g., 32)\n",
    "        num_captions = captions.size(1)  # Number of captions (e.g., 5)\n",
    "        sequence_length = features.size(2)  # Sequence length (25)\n",
    "        feature_size = features.size(3)  # Feature embedding size (256)\n",
    "\n",
    "        # Squeeze out the extra dimensions in `features` to make it [batch_size, feature_size]\n",
    "        features = features.squeeze(1)  # Removing the unnecessary singleton dimensions\n",
    "\n",
    "        # Now expand the features to repeat them across the captions dimension\n",
    "        features = features.unsqueeze(1).expand(-1, num_captions, -1, -1)  # [batch_size, num_captions, sequence_length, feature_size]\n",
    "\n",
    "        # Flatten features for input into the model\n",
    "        features = features.contiguous().view(batch_size * num_captions, sequence_length, feature_size)\n",
    "        # Reshape captions as well\n",
    "        captions = captions.view(batch_size * num_captions, -1)  # Make sure to handle caption shape accordingly\n",
    "\n",
    "        # Forward pass\n",
    "        outputs = captioning_model(features, captions)\n",
    "        loss = criterion(outputs.view(-1, vocab_size), captions.view(-1))\n",
    "        test_loss += loss.item()\n",
    "\n",
    "        # Decode the outputs and calculate BLEU scores\n",
    "        predicted_captions = outputs.argmax(2).cpu().numpy()\n",
    "        for pred, actual in zip(predicted_captions, captions.cpu().numpy()):\n",
    "            pred_caption = [ix_to_word[ix] for ix in pred if ix not in {word_to_ix['<PAD>'], word_to_ix['<START>'], word_to_ix['<END>'], word_to_ix['<UNK>']}]\n",
    "            actual_caption = [ix_to_word[ix] for ix in actual if ix not in {word_to_ix['<PAD>'], word_to_ix['<START>'], word_to_ix['<END>'], word_to_ix['<UNK>']}]\n",
    "            bleu_score_value = sentence_bleu([actual_caption], pred_caption, smoothing_function=smoothing_function)\n",
    "            bleu_scores.append(bleu_score_value)\n",
    "\n",
    "# Calculate average loss and BLEU score\n",
    "test_loss /= len(test_loader)\n",
    "average_bleu_score = sum(bleu_scores) / len(bleu_scores)\n",
    "print(f'Test Loss: {test_loss}')\n",
    "print(f'Average BLEU Score: {average_bleu_score}')\n"
   ]
  },
  {
   "cell_type": "code",
   "execution_count": null,
   "id": "34835757-d22e-4b12-87eb-8f3d1dd1d6fe",
   "metadata": {},
   "outputs": [],
   "source": []
  }
 ],
 "metadata": {
  "kernelspec": {
   "display_name": "Python 3 (ipykernel)",
   "language": "python",
   "name": "python3"
  },
  "language_info": {
   "codemirror_mode": {
    "name": "ipython",
    "version": 3
   },
   "file_extension": ".py",
   "mimetype": "text/x-python",
   "name": "python",
   "nbconvert_exporter": "python",
   "pygments_lexer": "ipython3",
   "version": "3.12.4"
  }
 },
 "nbformat": 4,
 "nbformat_minor": 5
}
